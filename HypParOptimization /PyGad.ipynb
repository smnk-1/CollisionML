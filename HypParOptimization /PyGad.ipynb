{
 "cells": [
  {
   "cell_type": "code",
   "execution_count": 30,
   "metadata": {},
   "outputs": [],
   "source": [
    "import numpy as np\n",
    "import matplotlib.pyplot as plt\n",
    "\n",
    "from sklearn.model_selection import cross_val_score\n",
    "\n",
    "import pygad"
   ]
  },
  {
   "cell_type": "code",
   "execution_count": 31,
   "metadata": {},
   "outputs": [],
   "source": [
    "loaded_data = np.load('preprocessed_data.npz')\n",
    "X_train = loaded_data['X_train']\n",
    "X_test = loaded_data['X_test']\n",
    "y_train = loaded_data['y_train']\n",
    "y_test = loaded_data['y_test']"
   ]
  },
  {
   "cell_type": "markdown",
   "metadata": {},
   "source": [
    "# Классический генетический алгоритм\n",
    "\n",
    "Оптимизация гипер параметров с помощью PyGad"
   ]
  },
  {
   "cell_type": "markdown",
   "metadata": {},
   "source": [
    "### KNN"
   ]
  },
  {
   "cell_type": "code",
   "execution_count": 32,
   "metadata": {},
   "outputs": [],
   "source": [
    "from sklearn.neighbors import KNeighborsClassifier"
   ]
  },
  {
   "cell_type": "code",
   "execution_count": 33,
   "metadata": {},
   "outputs": [],
   "source": [
    "def fitness_func(ga_instance, solution, solution_idx):\n",
    "    model = KNeighborsClassifier(\n",
    "        n_neighbors=int(solution[0]),\n",
    "        p=int(solution[1]),\n",
    "        n_jobs=-1\n",
    "    )\n",
    "\n",
    "    score = cross_val_score(\n",
    "        model,\n",
    "        X_train, \n",
    "        y_train, \n",
    "        cv=3,\n",
    "        scoring='f1_macro'\n",
    "    ).mean()\n",
    "\n",
    "    return score"
   ]
  },
  {
   "cell_type": "code",
   "execution_count": 34,
   "metadata": {},
   "outputs": [],
   "source": [
    "gene_space = [\n",
    "    {'low': 1, 'high': 100},  # n_neighbours\n",
    "    {'low': 1, 'high': 10}     # p\n",
    "]"
   ]
  },
  {
   "cell_type": "code",
   "execution_count": 35,
   "metadata": {},
   "outputs": [],
   "source": [
    "ga_instance = pygad.GA(\n",
    "    num_generations=20,\n",
    "    sol_per_pop=10,\n",
    "    num_parents_mating=5,\n",
    "    num_genes=2,\n",
    "    fitness_func=fitness_func,\n",
    "    gene_space=gene_space,\n",
    "    parent_selection_type=\"rank\",\n",
    "    keep_parents=2,\n",
    "    mutation_type=\"random\",\n",
    "    mutation_percent_genes=50\n",
    ")"
   ]
  },
  {
   "cell_type": "code",
   "execution_count": null,
   "metadata": {},
   "outputs": [],
   "source": [
    "ga_instance.run()\n",
    "\n",
    "solution, solution_fitness, solution_idx = ga_instance.best_solution()\n",
    "print(f\"Лучшие гиперпараметры: n_estimators={int(solution[0])}, max_depth={int(solution[1])}\")\n",
    "print(f\"Точность: {solution_fitness}\")"
   ]
  }
 ],
 "metadata": {
  "kernelspec": {
   "display_name": "venv",
   "language": "python",
   "name": "python3"
  },
  "language_info": {
   "codemirror_mode": {
    "name": "ipython",
    "version": 3
   },
   "file_extension": ".py",
   "mimetype": "text/x-python",
   "name": "python",
   "nbconvert_exporter": "python",
   "pygments_lexer": "ipython3",
   "version": "3.13.2"
  }
 },
 "nbformat": 4,
 "nbformat_minor": 2
}
