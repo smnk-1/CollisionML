{
 "cells": [
  {
   "cell_type": "code",
   "execution_count": 1,
   "id": "e6963605",
   "metadata": {},
   "outputs": [],
   "source": [
    "import numpy as np\n",
    "from sklearn.neighbors import KNeighborsClassifier\n",
    "from sklearn.svm import SVC\n",
    "from sklearn.model_selection import cross_val_score, train_test_split, StratifiedKFold\n",
    "from sklearn.preprocessing import StandardScaler\n",
    "from sklearn.pipeline import Pipeline\n",
    "import pyswarms as ps"
   ]
  },
  {
   "cell_type": "code",
   "execution_count": 2,
   "id": "bf014065",
   "metadata": {},
   "outputs": [],
   "source": [
    "X_train = np.load('X_train.npy')\n",
    "X_test  = np.load('X_test.npy')\n",
    "y_train = np.load('y_train.npy')\n",
    "y_test  = np.load('y_test.npy')"
   ]
  },
  {
   "cell_type": "code",
   "execution_count": 3,
   "id": "7d5c3908",
   "metadata": {},
   "outputs": [],
   "source": [
    "cv = StratifiedKFold(n_splits=3, shuffle=True, random_state=42)"
   ]
  },
  {
   "cell_type": "code",
   "execution_count": 4,
   "id": "c009931c",
   "metadata": {},
   "outputs": [],
   "source": [
    "def objective_knn(x):\n",
    "    \"\"\"\n",
    "    Функция для оптимизации KNN.\n",
    "    x.shape = (n_particles, 2): [n_neighbors, p]\n",
    "    Возвращает массив штрафных значений (-f1_macro) для минимизации.\n",
    "    \"\"\"\n",
    "    n_particles = x.shape[0]\n",
    "    scores = np.zeros(n_particles)\n",
    "    for i in range(n_particles):\n",
    "        n_neighbors = int(np.round(x[i, 0]))\n",
    "        n_neighbors = max(1, n_neighbors)\n",
    "        p = int(np.round(x[i, 1]))\n",
    "        p = 1 if p < 1 else 2 if p > 2 else p\n",
    "\n",
    "        model = KNeighborsClassifier(n_neighbors=n_neighbors, p=p, n_jobs=-1)\n",
    "        score = cross_val_score(\n",
    "            model,\n",
    "            X_train,\n",
    "            y_train,\n",
    "            cv=cv,\n",
    "            scoring='f1_macro',\n",
    "            n_jobs=-1\n",
    "        ).mean()\n",
    "        scores[i] = -score  \n",
    "    return scores"
   ]
  },
  {
   "cell_type": "code",
   "execution_count": 5,
   "id": "aa8025ef",
   "metadata": {},
   "outputs": [],
   "source": [
    "# Параметры PSO\n",
    "options = {'c1': 0.5, 'c2': 0.3, 'w': 0.9}\n",
    "# Границы: n_neighbors [1,50], p [1,10]\n",
    "bounds_knn = (np.array([1, 1]), np.array([50, 10]))"
   ]
  },
  {
   "cell_type": "code",
   "execution_count": 6,
   "id": "838f323c",
   "metadata": {},
   "outputs": [],
   "source": [
    "optimizer_knn = ps.single.GlobalBestPSO(\n",
    "    n_particles=20,\n",
    "    dimensions=2,\n",
    "    options=options,\n",
    "    bounds=bounds_knn\n",
    ")"
   ]
  },
  {
   "cell_type": "code",
   "execution_count": null,
   "id": "2292b71b",
   "metadata": {},
   "outputs": [],
   "source": [
    "best_cost_knn, best_pos_knn = optimizer_knn.optimize(objective_knn, iters=50)"
   ]
  },
  {
   "cell_type": "code",
   "execution_count": null,
   "id": "26e7a798",
   "metadata": {},
   "outputs": [],
   "source": [
    "best_n_neighbors = int(np.round(best_pos_knn[0]))\n",
    "best_p = int(np.round(best_pos_knn[1]))\n",
    "print(\"Best KNN params: n_neighbors=\", best_n_neighbors, \", p=\", best_p)\n",
    "print(\"Best KNN f1_macro=\", -best_cost_knn)"
   ]
  }
 ],
 "metadata": {
  "kernelspec": {
   "display_name": "venv",
   "language": "python",
   "name": "python3"
  },
  "language_info": {
   "codemirror_mode": {
    "name": "ipython",
    "version": 3
   },
   "file_extension": ".py",
   "mimetype": "text/x-python",
   "name": "python",
   "nbconvert_exporter": "python",
   "pygments_lexer": "ipython3",
   "version": "3.13.2"
  }
 },
 "nbformat": 4,
 "nbformat_minor": 5
}
