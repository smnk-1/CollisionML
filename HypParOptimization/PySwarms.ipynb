{
 "cells": [
  {
   "cell_type": "code",
   "execution_count": 1,
   "id": "e6963605",
   "metadata": {},
   "outputs": [],
   "source": [
    "import numpy as np\n",
    "from sklearn.neighbors import KNeighborsClassifier\n",
    "from sklearn.svm import SVC\n",
    "from sklearn.model_selection import cross_val_score, train_test_split, StratifiedKFold\n",
    "from sklearn.preprocessing import StandardScaler\n",
    "from sklearn.pipeline import Pipeline\n",
    "import pyswarms as ps"
   ]
  },
  {
   "cell_type": "code",
   "execution_count": 2,
   "id": "bf014065",
   "metadata": {},
   "outputs": [],
   "source": [
    "X_train = np.load('X_train.npy')\n",
    "X_test  = np.load('X_test.npy')\n",
    "y_train = np.load('y_train.npy')\n",
    "y_test  = np.load('y_test.npy')"
   ]
  },
  {
   "cell_type": "code",
   "execution_count": 3,
   "id": "7d5c3908",
   "metadata": {},
   "outputs": [],
   "source": [
    "cv = StratifiedKFold(n_splits=3, shuffle=True, random_state=42)"
   ]
  },
  {
   "cell_type": "markdown",
   "id": "ab02c569",
   "metadata": {},
   "source": [
    "# Алгоритм роя частиц"
   ]
  },
  {
   "cell_type": "markdown",
   "id": "3668e60c",
   "metadata": {},
   "source": [
    "## KNN"
   ]
  },
  {
   "cell_type": "code",
   "execution_count": null,
   "id": "c009931c",
   "metadata": {},
   "outputs": [],
   "source": [
    "def objective_knn(x):\n",
    "    n_particles = x.shape[0]\n",
    "    scores = np.zeros(n_particles)\n",
    "    for i in range(n_particles):\n",
    "        n_neighbors = int(np.round(x[i, 0]))\n",
    "        n_neighbors = max(1, n_neighbors)\n",
    "        p = int(np.round(x[i, 1]))\n",
    "        p = 1 if p < 1 else 2 if p > 2 else p\n",
    "\n",
    "        model = KNeighborsClassifier(n_neighbors=n_neighbors, p=p, n_jobs=-1)\n",
    "        score = cross_val_score(\n",
    "            model,\n",
    "            X_train,\n",
    "            y_train,\n",
    "            cv=cv,\n",
    "            scoring='f1_macro',\n",
    "            n_jobs=-1\n",
    "        ).mean()\n",
    "        scores[i] = -score  \n",
    "    return scores"
   ]
  },
  {
   "cell_type": "code",
   "execution_count": 5,
   "id": "aa8025ef",
   "metadata": {},
   "outputs": [],
   "source": [
    "# Параметры PSO\n",
    "options = {'c1': 0.5, 'c2': 0.3, 'w': 0.9}\n",
    "# Границы: n_neighbors [1,50], p [1,10]\n",
    "bounds_knn = (np.array([1, 1]), np.array([50, 10]))"
   ]
  },
  {
   "cell_type": "code",
   "execution_count": 6,
   "id": "838f323c",
   "metadata": {},
   "outputs": [],
   "source": [
    "optimizer_knn = ps.single.GlobalBestPSO(\n",
    "    n_particles=20,\n",
    "    dimensions=2,\n",
    "    options=options,\n",
    "    bounds=bounds_knn\n",
    ")"
   ]
  },
  {
   "cell_type": "code",
   "execution_count": null,
   "id": "2292b71b",
   "metadata": {},
   "outputs": [],
   "source": [
    "best_cost_knn, best_pos_knn = optimizer_knn.optimize(objective_knn, iters=50)"
   ]
  },
  {
   "cell_type": "code",
   "execution_count": null,
   "id": "26e7a798",
   "metadata": {},
   "outputs": [],
   "source": [
    "best_n_neighbors = int(np.round(best_pos_knn[0]))\n",
    "best_p = int(np.round(best_pos_knn[1]))\n",
    "print(\"Best KNN params: n_neighbors=\", best_n_neighbors, \", p=\", best_p)\n",
    "print(\"Best KNN f1_macro=\", -best_cost_knn)"
   ]
  },
  {
   "cell_type": "markdown",
   "id": "5e5c268b",
   "metadata": {},
   "source": [
    "## SVC"
   ]
  },
  {
   "cell_type": "code",
   "execution_count": null,
   "id": "1a33a2c2",
   "metadata": {},
   "outputs": [],
   "source": [
    "def objective_svc(x):\n",
    "    n_particles = x.shape[0]\n",
    "    scores = np.zeros(n_particles)\n",
    "    for i in range(n_particles):\n",
    "        C = 10 ** x[i, 0]\n",
    "        gamma = 10 ** x[i, 1]\n",
    "\n",
    "        pipeline = Pipeline([\n",
    "            ('scaler', StandardScaler()),\n",
    "            ('svc', SVC(C=C, gamma=gamma, kernel='rbf', random_state=42))\n",
    "        ])\n",
    "        score = cross_val_score(\n",
    "            pipeline,\n",
    "            X_train,\n",
    "            y_train,\n",
    "            cv=cv,\n",
    "            scoring='f1_macro',\n",
    "            n_jobs=-1\n",
    "        ).mean()\n",
    "        scores[i] = -score\n",
    "    return scores"
   ]
  },
  {
   "cell_type": "code",
   "execution_count": 9,
   "id": "9cc7c323",
   "metadata": {},
   "outputs": [],
   "source": [
    "# Границы: log10(C) [-3,3], log10(gamma) [-5,2]\n",
    "bounds_svc = (np.array([-3, -5]), np.array([3, 2]))\n",
    "\n",
    "optimizer_svc = ps.single.GlobalBestPSO(\n",
    "    n_particles=20,\n",
    "    dimensions=2,\n",
    "    options=options,\n",
    "    bounds=bounds_svc\n",
    ")"
   ]
  },
  {
   "cell_type": "code",
   "execution_count": null,
   "id": "005db632",
   "metadata": {},
   "outputs": [],
   "source": [
    "best_cost_svc, best_pos_svc = optimizer_svc.optimize(objective_svc, iters=50)"
   ]
  },
  {
   "cell_type": "code",
   "execution_count": null,
   "id": "48ac0a6c",
   "metadata": {},
   "outputs": [],
   "source": [
    "best_C = 10 ** best_pos_svc[0]\n",
    "best_gamma = 10 ** best_pos_svc[1]\n",
    "print(\"Best SVC params: C=\", best_C, \", gamma=\", best_gamma)\n",
    "print(\"Best SVC f1_macro=\", -best_cost_svc)"
   ]
  }
 ],
 "metadata": {
  "kernelspec": {
   "display_name": "venv",
   "language": "python",
   "name": "python3"
  },
  "language_info": {
   "codemirror_mode": {
    "name": "ipython",
    "version": 3
   },
   "file_extension": ".py",
   "mimetype": "text/x-python",
   "name": "python",
   "nbconvert_exporter": "python",
   "pygments_lexer": "ipython3",
   "version": "3.13.2"
  }
 },
 "nbformat": 4,
 "nbformat_minor": 5
}
