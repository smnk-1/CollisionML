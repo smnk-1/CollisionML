{
 "cells": [
  {
   "cell_type": "code",
   "execution_count": 11,
   "id": "e6963605",
   "metadata": {},
   "outputs": [],
   "source": [
    "import numpy as np\n",
    "from sklearn.neighbors import KNeighborsClassifier\n",
    "from sklearn.svm import SVC\n",
    "from sklearn.model_selection import cross_val_score, train_test_split, StratifiedKFold\n",
    "from sklearn.preprocessing import StandardScaler\n",
    "from sklearn.pipeline import Pipeline\n",
    "import pyswarms as ps"
   ]
  },
  {
   "cell_type": "code",
   "execution_count": 12,
   "id": "bf014065",
   "metadata": {},
   "outputs": [],
   "source": [
    "X_train = np.load('X_train.npy')\n",
    "X_test  = np.load('X_test.npy')\n",
    "y_train = np.load('y_train.npy')\n",
    "y_test  = np.load('y_test.npy')"
   ]
  },
  {
   "cell_type": "markdown",
   "id": "ab02c569",
   "metadata": {},
   "source": [
    "# Алгоритм роя частиц"
   ]
  },
  {
   "cell_type": "markdown",
   "id": "3668e60c",
   "metadata": {},
   "source": [
    "## KNN"
   ]
  },
  {
   "cell_type": "code",
   "execution_count": 13,
   "id": "bc387004",
   "metadata": {},
   "outputs": [],
   "source": [
    "cv = StratifiedKFold(n_splits=3, shuffle=True, random_state=42)"
   ]
  },
  {
   "cell_type": "code",
   "execution_count": 14,
   "id": "c009931c",
   "metadata": {},
   "outputs": [],
   "source": [
    "def objective_knn(x):\n",
    "    n_particles = x.shape[0]\n",
    "    scores = np.zeros(n_particles)\n",
    "    for i in range(n_particles):\n",
    "        n_neighbors = int(np.round(x[i, 0]))\n",
    "        n_neighbors = max(1, n_neighbors)\n",
    "        p = int(np.round(x[i, 1]))\n",
    "        p = 1 if p < 1 else 2 if p > 2 else p\n",
    "\n",
    "        model = KNeighborsClassifier(n_neighbors=n_neighbors, p=p, n_jobs=-1)\n",
    "        score = cross_val_score(\n",
    "            model,\n",
    "            X_train,\n",
    "            y_train,\n",
    "            cv=cv,\n",
    "            scoring='f1_macro',\n",
    "            n_jobs=-1\n",
    "        ).mean()\n",
    "        scores[i] = -score  \n",
    "    return scores"
   ]
  },
  {
   "cell_type": "code",
   "execution_count": 15,
   "id": "aa8025ef",
   "metadata": {},
   "outputs": [],
   "source": [
    "# Параметры PSO\n",
    "options = {'c1': 0.5, 'c2': 0.3, 'w': 0.9}\n",
    "# Границы: n_neighbors [1,50], p [1,10]\n",
    "bounds_knn = (np.array([1, 1]), np.array([50, 10]))"
   ]
  },
  {
   "cell_type": "code",
   "execution_count": 16,
   "id": "838f323c",
   "metadata": {},
   "outputs": [],
   "source": [
    "optimizer_knn = ps.single.GlobalBestPSO(\n",
    "    n_particles=20,\n",
    "    dimensions=2,\n",
    "    options=options,\n",
    "    bounds=bounds_knn\n",
    ")"
   ]
  },
  {
   "cell_type": "code",
   "execution_count": 17,
   "id": "2292b71b",
   "metadata": {},
   "outputs": [
    {
     "name": "stderr",
     "output_type": "stream",
     "text": [
      "2025-04-11 20:07:57,345 - pyswarms.single.global_best - INFO - Optimize for 1 iters with {'c1': 0.5, 'c2': 0.3, 'w': 0.9}\n",
      "pyswarms.single.global_best: 100%|██████████|1/1, best_cost=-0.994\n",
      "2025-04-11 20:15:23,508 - pyswarms.single.global_best - INFO - Optimization finished | best cost: -0.9942574611712836, best pos: [1.40784775 3.17412922]\n"
     ]
    }
   ],
   "source": [
    "best_cost_knn, best_pos_knn = optimizer_knn.optimize(objective_knn, iters=1)"
   ]
  },
  {
   "cell_type": "code",
   "execution_count": 18,
   "id": "26e7a798",
   "metadata": {},
   "outputs": [
    {
     "name": "stdout",
     "output_type": "stream",
     "text": [
      "Best KNN params: n_neighbors= 1 , p= 3\n",
      "Best KNN f1_macro= 0.9942574611712836\n"
     ]
    }
   ],
   "source": [
    "best_n_neighbors = int(np.round(best_pos_knn[0]))\n",
    "best_p = int(np.round(best_pos_knn[1]))\n",
    "print(\"Best KNN params: n_neighbors=\", best_n_neighbors, \", p=\", best_p)\n",
    "print(\"Best KNN f1_macro=\", -best_cost_knn)"
   ]
  },
  {
   "cell_type": "markdown",
   "id": "9509254d",
   "metadata": {},
   "source": [
    "### Лучшие значения\n",
    "\n",
    "Best KNN params: n_neighbors= 1 , p= 3\n",
    "\n",
    "Best KNN f1_macro= 0.9942574611712836\n"
   ]
  },
  {
   "cell_type": "markdown",
   "id": "5e5c268b",
   "metadata": {},
   "source": [
    "## SVC (отброшен ввиду долгих вычислений)"
   ]
  },
  {
   "cell_type": "code",
   "execution_count": 23,
   "id": "d3cfef07",
   "metadata": {},
   "outputs": [],
   "source": [
    "cv = StratifiedKFold(n_splits=3, shuffle=True, random_state=42)"
   ]
  },
  {
   "cell_type": "code",
   "execution_count": 24,
   "id": "1a33a2c2",
   "metadata": {},
   "outputs": [],
   "source": [
    "def objective_svc(x):\n",
    "    n_particles = x.shape[0]\n",
    "    scores = np.zeros(n_particles)\n",
    "    for i in range(n_particles):\n",
    "        C = 10 ** x[i, 0]\n",
    "        gamma = 10 ** x[i, 1]\n",
    "\n",
    "        pipeline = Pipeline([\n",
    "            ('scaler', StandardScaler()),\n",
    "            ('svc', SVC(C=C, gamma=gamma, kernel='rbf', random_state=42))\n",
    "        ])\n",
    "        score = cross_val_score(\n",
    "            pipeline,\n",
    "            X_train,\n",
    "            y_train,\n",
    "            cv=cv,\n",
    "            scoring='f1_macro',\n",
    "            n_jobs=-1\n",
    "        ).mean()\n",
    "        scores[i] = -score\n",
    "    return scores"
   ]
  },
  {
   "cell_type": "code",
   "execution_count": 25,
   "id": "9cc7c323",
   "metadata": {},
   "outputs": [],
   "source": [
    "# Границы: log10(C) [-3,3], log10(gamma) [-5,2]\n",
    "bounds_svc = (np.array([-3, -5]), np.array([3, 2]))\n",
    "\n",
    "optimizer_svc = ps.single.GlobalBestPSO(\n",
    "    n_particles=20,\n",
    "    dimensions=2,\n",
    "    options=options,\n",
    "    bounds=bounds_svc\n",
    ")"
   ]
  },
  {
   "cell_type": "code",
   "execution_count": null,
   "id": "005db632",
   "metadata": {},
   "outputs": [],
   "source": [
    "best_cost_svc, best_pos_svc = optimizer_svc.optimize(objective_svc, iters=1)"
   ]
  },
  {
   "cell_type": "code",
   "execution_count": null,
   "id": "48ac0a6c",
   "metadata": {},
   "outputs": [],
   "source": [
    "best_C = 10 ** best_pos_svc[0]\n",
    "best_gamma = 10 ** best_pos_svc[1]\n",
    "print(\"Best SVC params: C=\", best_C, \", gamma=\", best_gamma)\n",
    "print(\"Best SVC f1_macro=\", -best_cost_svc)"
   ]
  },
  {
   "cell_type": "markdown",
   "id": "87b17bd2",
   "metadata": {},
   "source": [
    "## DCT"
   ]
  },
  {
   "cell_type": "code",
   "execution_count": null,
   "id": "0321bf5e",
   "metadata": {},
   "outputs": [],
   "source": [
    "from sklearn.tree import DecisionTreeClassifier as DTC"
   ]
  },
  {
   "cell_type": "code",
   "execution_count": null,
   "id": "59e3e9c3",
   "metadata": {},
   "outputs": [
    {
     "name": "stderr",
     "output_type": "stream",
     "text": [
      "2025-04-14 19:42:59,523 - pyswarms.single.global_best - INFO - Optimize for 30 iters with {'c1': 0.5, 'c2': 0.3, 'w': 0.9}\n",
      "pyswarms.single.global_best: 100%|██████████|30/30, best_cost=-0.981\n",
      "2025-04-14 20:05:41,618 - pyswarms.single.global_best - INFO - Optimization finished | best cost: -0.9811641417873908, best pos: [ 2.43433038  0.39659199 14.6325186  13.29556746  8.98261408  2.15295213]\n"
     ]
    },
    {
     "name": "stdout",
     "output_type": "stream",
     "text": [
      "Лучшая точность: 0.9812\n",
      "Лучшие гиперпараметры: {'criterion': 'log_loss', 'splitter': 'best', 'max_depth': 15, 'min_samples_split': 13, 'min_samples_leaf': 9, 'max_features': None, 'random_state': 42}\n"
     ]
    }
   ],
   "source": [
    "from pyswarms.single import GlobalBestPSO\n",
    "\n",
    "# Определяем пространство поиска и границы\n",
    "lower_bounds = [0, 0, 0.5, 1.5, 0.5, 0]\n",
    "upper_bounds = [2.999, 1.999, 15.499, 20.499, 20.499, 2.999]\n",
    "bounds = (np.array(lower_bounds), np.array(upper_bounds))\n",
    "\n",
    "def decode_pso_position(position):\n",
    "    \"\"\"Преобразуем непрерывные значения частицы в параметры дерева\"\"\"\n",
    "    criterion_idx = int(round(position[0]))\n",
    "    criterion_idx = max(0, min(criterion_idx, 2))\n",
    "    \n",
    "    splitter_idx = int(round(position[1]))\n",
    "    splitter_idx = max(0, min(splitter_idx, 1))\n",
    "    \n",
    "    max_depth = int(round(position[2]))\n",
    "    max_depth = max(1, min(max_depth, 15))\n",
    "    \n",
    "    min_samples_split = int(round(position[3]))\n",
    "    min_samples_split = max(2, min(min_samples_split, 20))\n",
    "    \n",
    "    min_samples_leaf = int(round(position[4]))\n",
    "    min_samples_leaf = max(1, min(min_samples_leaf, 20))\n",
    "    \n",
    "    max_features_idx = int(round(position[5]))\n",
    "    max_features_idx = max(0, min(max_features_idx, 2))\n",
    "\n",
    "    return {\n",
    "        'criterion': [\"gini\", \"entropy\", \"log_loss\"][criterion_idx],\n",
    "        'splitter': [\"best\", \"random\"][splitter_idx],\n",
    "        'max_depth': max_depth,\n",
    "        'min_samples_split': min_samples_split,\n",
    "        'min_samples_leaf': min_samples_leaf,\n",
    "        'max_features': [\"sqrt\", \"log2\", None][max_features_idx],\n",
    "        'random_state': 42\n",
    "    }\n",
    "\n",
    "def objective_function(particles):\n",
    "    \"\"\"Функция оценки качества частиц\"\"\"\n",
    "    scores = []\n",
    "    for particle in particles:\n",
    "        try:\n",
    "            model = DTC(**decode_pso_position(particle))\n",
    "            score = cross_val_score(model, X_train, y_train, \n",
    "                                 cv=5, scoring=\"f1_macro\").mean()\n",
    "            scores.append(-score)  # Инвертируем для минимизации\n",
    "        except:\n",
    "            scores.append(1)  # При ошибке назначаем плохой результат\n",
    "    return np.array(scores)\n",
    "\n",
    "# Настройка и запуск PSO\n",
    "options = {'c1': 0.5, 'c2': 0.3, 'w': 0.9}\n",
    "optimizer = GlobalBestPSO(n_particles=20, \n",
    "                        dimensions=6, \n",
    "                        options=options, \n",
    "                        bounds=bounds)\n",
    "\n",
    "best_cost, best_pos = optimizer.optimize(objective_function, iters=30)\n",
    "\n",
    "# Получаем и выводим результаты\n",
    "best_params = decode_pso_position(best_pos)\n",
    "print(f\"Лучшая точность: {-best_cost:.4f}\")  # Инвертируем обратно\n",
    "print(\"Лучшие гиперпараметры:\", best_params)"
   ]
  },
  {
   "cell_type": "markdown",
   "id": "73be7999",
   "metadata": {},
   "source": [
    "### Лучшие значения\n",
    "Лучшая точность: 0.9812\n",
    "\n",
    "Лучшие гиперпараметры: \n",
    "{'criterion': 'log_loss', 'splitter': 'best', 'max_depth': 15, 'min_samples_split': 13, 'min_samples_leaf': 9, 'max_features': None, 'random_state': 42}\n"
   ]
  }
 ],
 "metadata": {
  "kernelspec": {
   "display_name": "venv",
   "language": "python",
   "name": "python3"
  },
  "language_info": {
   "codemirror_mode": {
    "name": "ipython",
    "version": 3
   },
   "file_extension": ".py",
   "mimetype": "text/x-python",
   "name": "python",
   "nbconvert_exporter": "python",
   "pygments_lexer": "ipython3",
   "version": "3.12.10"
  }
 },
 "nbformat": 4,
 "nbformat_minor": 5
}
