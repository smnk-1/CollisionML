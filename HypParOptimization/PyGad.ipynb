{
 "cells": [
  {
   "cell_type": "code",
   "execution_count": 1,
   "metadata": {},
   "outputs": [],
   "source": [
    "import numpy as np\n",
    "import matplotlib.pyplot as plt\n",
    "\n",
    "from sklearn.metrics import *\n",
    "\n",
    "from sklearn.model_selection import cross_val_score\n",
    "\n",
    "import pygad\n",
    "\n",
    "from tqdm import tqdm"
   ]
  },
  {
   "cell_type": "code",
   "execution_count": 2,
   "metadata": {},
   "outputs": [],
   "source": [
    "X_train = np.load('X_train.npy')\n",
    "X_test  = np.load('X_test.npy')\n",
    "y_train = np.load('y_train.npy')\n",
    "y_test  = np.load('y_test.npy')"
   ]
  },
  {
   "cell_type": "markdown",
   "metadata": {},
   "source": [
    "# Классический генетический алгоритм\n",
    "\n",
    "Оптимизация гипер параметров с помощью PyGad"
   ]
  },
  {
   "cell_type": "markdown",
   "metadata": {},
   "source": [
    "## KNN"
   ]
  },
  {
   "cell_type": "code",
   "execution_count": 4,
   "metadata": {},
   "outputs": [],
   "source": [
    "from sklearn.neighbors import KNeighborsClassifier"
   ]
  },
  {
   "cell_type": "code",
   "execution_count": 40,
   "metadata": {},
   "outputs": [],
   "source": [
    "num_generations = 20\n",
    "sol_per_pop     = 10"
   ]
  },
  {
   "cell_type": "code",
   "execution_count": 41,
   "metadata": {},
   "outputs": [
    {
     "name": "stderr",
     "output_type": "stream",
     "text": [
      "GA evaluations:   0%|          | 1/200 [00:11<36:29, 11.00s/it]\n"
     ]
    }
   ],
   "source": [
    "total_evals = num_generations * sol_per_pop\n",
    "pbar = tqdm(total=total_evals, desc=\"GA evaluations\")"
   ]
  },
  {
   "cell_type": "code",
   "execution_count": 42,
   "metadata": {},
   "outputs": [],
   "source": [
    "def fitness_func(ga_instance, solution, solution_idx):\n",
    "    pbar.update(1)\n",
    "    \n",
    "    model = KNeighborsClassifier(\n",
    "        n_neighbors=int(solution[0]),\n",
    "        p=int(solution[1]),\n",
    "        n_jobs=-1\n",
    "    )\n",
    "\n",
    "    score = cross_val_score(\n",
    "        model,\n",
    "        X_train, \n",
    "        y_train, \n",
    "        cv=3,\n",
    "        scoring='f1_macro',\n",
    "        n_jobs=-1\n",
    "    ).mean()\n",
    "\n",
    "    return score"
   ]
  },
  {
   "cell_type": "code",
   "execution_count": 43,
   "metadata": {},
   "outputs": [],
   "source": [
    "gene_space = [\n",
    "    {'low': 1, 'high': 100},  # n_neighbours\n",
    "    {'low': 1, 'high': 10}     # p\n",
    "]"
   ]
  },
  {
   "cell_type": "code",
   "execution_count": 44,
   "metadata": {},
   "outputs": [],
   "source": [
    "ga_instance = pygad.GA(\n",
    "    num_generations=num_generations,\n",
    "    sol_per_pop=sol_per_pop,\n",
    "    num_parents_mating=5,\n",
    "    num_genes=2,\n",
    "    fitness_func=fitness_func,\n",
    "    gene_space=gene_space,\n",
    "    parent_selection_type=\"rank\",\n",
    "    keep_parents=2,\n",
    "    mutation_type=\"random\",\n",
    "    mutation_percent_genes=50,\n",
    "    random_seed=42\n",
    ")"
   ]
  },
  {
   "cell_type": "code",
   "execution_count": 45,
   "metadata": {},
   "outputs": [
    {
     "name": "stderr",
     "output_type": "stream",
     "text": [
      "GA evaluations:  98%|█████████▊| 195/200 [2:04:23<02:13, 26.61s/it]  "
     ]
    },
    {
     "name": "stdout",
     "output_type": "stream",
     "text": [
      "Лучшие гиперпараметры: n_neighbors=2, p=7\n",
      "Лучшее значение F1-macro: 0.9943\n"
     ]
    }
   ],
   "source": [
    "ga_instance.run()\n",
    "# pbar.close()\n",
    "solution, solution_fitness, solution_idx = ga_instance.best_solution()\n",
    "print(f\"Лучшие гиперпараметры: n_neighbors={int(solution[0])}, p={int(solution[1])}\")\n",
    "print(f\"Лучшее значение F1-macro: {solution_fitness:.4f}\")"
   ]
  },
  {
   "cell_type": "markdown",
   "metadata": {},
   "source": [
    "### Лучшие значения\n",
    "\n",
    "Лучшие гиперпараметры: n_neighbors=2, p=7\n",
    "\n",
    "Лучшее значение F1-macro: 0.9943"
   ]
  },
  {
   "cell_type": "code",
   "execution_count": 13,
   "metadata": {},
   "outputs": [],
   "source": [
    "best_model = KNeighborsClassifier(\n",
    "        n_neighbors=2,\n",
    "        p=7,\n",
    "        n_jobs=-1\n",
    "    )\n"
   ]
  },
  {
   "cell_type": "markdown",
   "metadata": {},
   "source": [
    "## SVC"
   ]
  },
  {
   "cell_type": "code",
   "execution_count": 53,
   "metadata": {},
   "outputs": [],
   "source": [
    "from sklearn.svm import SVC"
   ]
  },
  {
   "cell_type": "code",
   "execution_count": 54,
   "metadata": {},
   "outputs": [],
   "source": [
    "from sklearn.pipeline import Pipeline\n",
    "from sklearn.preprocessing import StandardScaler"
   ]
  },
  {
   "cell_type": "code",
   "execution_count": 55,
   "metadata": {},
   "outputs": [],
   "source": [
    "populationa_size = 20\n",
    "num_generations = 50"
   ]
  },
  {
   "cell_type": "code",
   "execution_count": 56,
   "metadata": {},
   "outputs": [],
   "source": [
    "kernel_options = ['linear', 'poly', 'rbf', 'sigmoid']\n",
    "gamma_type_options = ['scale', 'value']"
   ]
  },
  {
   "cell_type": "code",
   "execution_count": 57,
   "metadata": {},
   "outputs": [
    {
     "name": "stderr",
     "output_type": "stream",
     "text": [
      "GA iterations:   0%|          | 1/1000 [02:59<49:54:51, 179.87s/it]\n"
     ]
    }
   ],
   "source": [
    "pbar2 = tqdm(total=populationa_size * num_generations, desc=\"GA iterations\")"
   ]
  },
  {
   "cell_type": "code",
   "execution_count": 58,
   "metadata": {},
   "outputs": [],
   "source": [
    "def decode_solution(solution):\n",
    "    \"\"\"\n",
    "    Преобразует вектор решения (фиксированной длины) в словарь гиперпараметров для SVC.\n",
    "    Ожидается, что решение имеет длину 6:\n",
    "      0: log10(C) -> C = 10^(solution[0])\n",
    "      1: kernel_idx (0 до 3)\n",
    "      2: gamma_type_idx (0 или 1): 0 -> 'scale', 1 -> 'value'\n",
    "      3: log10(gamma) -> используется если kernel в ['poly', 'rbf', 'sigmoid'] и gamma_type=='value'\n",
    "      4: degree -> используется только если kernel=='poly'\n",
    "      5: coef0  -> используется если kernel in ['poly', 'sigmoid']\n",
    "    \"\"\"\n",
    "    params = {\n",
    "        'C': 10 ** solution[0],\n",
    "        'kernel': kernel_options[int(solution[1])],\n",
    "        'gamma': 'scale',  # по умолчанию\n",
    "        'degree': 3,       # дефолтное для poly\n",
    "        'coef0': 0.0       # дефолтное для poly и sigmoid\n",
    "    }\n",
    "    \n",
    "    # Определение gamma_type\n",
    "    gamma_type = gamma_type_options[int(solution[2])]\n",
    "    \n",
    "    # Для некоторых ядер может использоваться дополнительный параметр gamma\n",
    "    if params['kernel'] in ['poly', 'rbf', 'sigmoid'] and gamma_type == 'value':\n",
    "        params['gamma'] = 10 ** solution[3]\n",
    "    # Иначе оставляем 'scale'\n",
    "    \n",
    "    # Если ядро poly, то берем значение для degree\n",
    "    if params['kernel'] == 'poly':\n",
    "        params['degree'] = int(solution[4])\n",
    "    \n",
    "    # Если ядро poly или sigmoid, то берем значение для coef0\n",
    "    if params['kernel'] in ['poly', 'sigmoid']:\n",
    "        params['coef0'] = solution[5]\n",
    "    \n",
    "    return params\n"
   ]
  },
  {
   "cell_type": "code",
   "execution_count": 59,
   "metadata": {},
   "outputs": [],
   "source": [
    "def fitness_func(ga_instance, solution, solution_idx):\n",
    "    pbar2.update(1)\n",
    "\n",
    "    params = decode_solution(solution)\n",
    "    pipeline = Pipeline([\n",
    "        ('scaler', StandardScaler()),\n",
    "        ('svc',    SVC(**params, random_state=42))\n",
    "    ])\n",
    "\n",
    "    \n",
    "    score = cross_val_score(\n",
    "        pipeline,\n",
    "        X_train,\n",
    "        y_train,\n",
    "        cv=3,\n",
    "        scoring='f1_macro',\n",
    "        n_jobs=-1\n",
    "    ).mean()\n",
    "\n",
    "    return score\n"
   ]
  },
  {
   "cell_type": "code",
   "execution_count": 60,
   "metadata": {},
   "outputs": [],
   "source": [
    "# Явное перечисление вариантов для целочисленных генов:\n",
    "gene_space = [\n",
    "    {'low': -3, 'high': 3},                    # log10(C)\n",
    "    [0, 1, 2, 3],                             # kernel_idx\n",
    "    [0, 1],                                   # gamma_type_idx\n",
    "    {'low': -5, 'high': 2},                    # log10(gamma)\n",
    "    [2, 3, 4, 5],                             # degree\n",
    "    {'low': -1.0, 'high': 1.0}                 # coef0\n",
    "]\n"
   ]
  },
  {
   "cell_type": "code",
   "execution_count": 61,
   "metadata": {},
   "outputs": [],
   "source": [
    "ga_instance = pygad.GA(\n",
    "    num_generations=num_generations,\n",
    "    sol_per_pop=populationa_size,\n",
    "    num_parents_mating=5,\n",
    "    fitness_func=fitness_func,\n",
    "    num_genes=len(gene_space),\n",
    "    gene_space=gene_space,\n",
    "    parent_selection_type=\"sss\",\n",
    "    keep_parents=2,\n",
    "    crossover_type=\"single_point\",\n",
    "    mutation_type=\"random\",\n",
    "    mutation_percent_genes=20\n",
    ")"
   ]
  },
  {
   "cell_type": "code",
   "execution_count": null,
   "metadata": {},
   "outputs": [],
   "source": [
    "ga_instance.run()"
   ]
  },
  {
   "cell_type": "code",
   "execution_count": null,
   "metadata": {},
   "outputs": [],
   "source": [
    "best_solution, best_solution_fitness, best_idx = ga_instance.best_solution()\n",
    "best_params = decode_solution(best_solution)"
   ]
  },
  {
   "cell_type": "code",
   "execution_count": null,
   "metadata": {},
   "outputs": [],
   "source": [
    "print(\"Лучшая приспособленность (f1_macro):\", best_solution_fitness)\n",
    "print(\"Лучшие гиперпараметры:\")\n",
    "for k, v in best_params.items():\n",
    "    print(f\"  {k}: {v}\")"
   ]
  }
 ],
 "metadata": {
  "kernelspec": {
   "display_name": "venv",
   "language": "python",
   "name": "python3"
  },
  "language_info": {
   "codemirror_mode": {
    "name": "ipython",
    "version": 3
   },
   "file_extension": ".py",
   "mimetype": "text/x-python",
   "name": "python",
   "nbconvert_exporter": "python",
   "pygments_lexer": "ipython3",
   "version": "3.13.2"
  }
 },
 "nbformat": 4,
 "nbformat_minor": 2
}
