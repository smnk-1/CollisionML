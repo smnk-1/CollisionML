{
 "cells": [
  {
   "cell_type": "code",
   "execution_count": 36,
   "metadata": {},
   "outputs": [],
   "source": [
    "import numpy as np\n",
    "import matplotlib.pyplot as plt\n",
    "\n",
    "from sklearn.model_selection import cross_val_score\n",
    "\n",
    "import pygad"
   ]
  },
  {
   "cell_type": "code",
   "execution_count": 37,
   "metadata": {},
   "outputs": [],
   "source": [
    "X_train = np.load('X_train.npy')\n",
    "X_test  = np.load('X_test.npy')\n",
    "y_train = np.load('y_train.npy')\n",
    "y_test  = np.load('y_test.npy')"
   ]
  },
  {
   "cell_type": "markdown",
   "metadata": {},
   "source": [
    "# Классический генетический алгоритм\n",
    "\n",
    "Оптимизация гипер параметров с помощью PyGad"
   ]
  },
  {
   "cell_type": "markdown",
   "metadata": {},
   "source": [
    "### KNN"
   ]
  },
  {
   "cell_type": "code",
   "execution_count": 38,
   "metadata": {},
   "outputs": [],
   "source": [
    "from sklearn.neighbors import KNeighborsClassifier"
   ]
  },
  {
   "cell_type": "code",
   "execution_count": 39,
   "metadata": {},
   "outputs": [],
   "source": [
    "from tqdm import tqdm"
   ]
  },
  {
   "cell_type": "code",
   "execution_count": 40,
   "metadata": {},
   "outputs": [],
   "source": [
    "num_generations = 20\n",
    "sol_per_pop     = 10"
   ]
  },
  {
   "cell_type": "code",
   "execution_count": 41,
   "metadata": {},
   "outputs": [
    {
     "name": "stderr",
     "output_type": "stream",
     "text": [
      "GA evaluations:   0%|          | 1/200 [00:11<36:29, 11.00s/it]\n"
     ]
    }
   ],
   "source": [
    "total_evals = num_generations * sol_per_pop\n",
    "pbar = tqdm(total=total_evals, desc=\"GA evaluations\")"
   ]
  },
  {
   "cell_type": "code",
   "execution_count": 42,
   "metadata": {},
   "outputs": [],
   "source": [
    "def fitness_func(ga_instance, solution, solution_idx):\n",
    "    pbar.update(1)\n",
    "    \n",
    "    model = KNeighborsClassifier(\n",
    "        n_neighbors=int(solution[0]),\n",
    "        p=int(solution[1]),\n",
    "        n_jobs=-1\n",
    "    )\n",
    "\n",
    "    score = cross_val_score(\n",
    "        model,\n",
    "        X_train, \n",
    "        y_train, \n",
    "        cv=3,\n",
    "        scoring='f1_macro',\n",
    "        n_jobs=-1\n",
    "    ).mean()\n",
    "\n",
    "    return score"
   ]
  },
  {
   "cell_type": "code",
   "execution_count": 43,
   "metadata": {},
   "outputs": [],
   "source": [
    "gene_space = [\n",
    "    {'low': 1, 'high': 100},  # n_neighbours\n",
    "    {'low': 1, 'high': 10}     # p\n",
    "]"
   ]
  },
  {
   "cell_type": "code",
   "execution_count": 44,
   "metadata": {},
   "outputs": [],
   "source": [
    "ga_instance = pygad.GA(\n",
    "    num_generations=num_generations,\n",
    "    sol_per_pop=sol_per_pop,\n",
    "    num_parents_mating=5,\n",
    "    num_genes=2,\n",
    "    fitness_func=fitness_func,\n",
    "    gene_space=gene_space,\n",
    "    parent_selection_type=\"rank\",\n",
    "    keep_parents=2,\n",
    "    mutation_type=\"random\",\n",
    "    mutation_percent_genes=50,\n",
    "    random_seed=42\n",
    ")"
   ]
  },
  {
   "cell_type": "code",
   "execution_count": 45,
   "metadata": {},
   "outputs": [
    {
     "name": "stderr",
     "output_type": "stream",
     "text": [
      "GA evaluations:  98%|█████████▊| 195/200 [2:04:23<02:13, 26.61s/it]  "
     ]
    },
    {
     "name": "stdout",
     "output_type": "stream",
     "text": [
      "Лучшие гиперпараметры: n_neighbors=2, p=7\n",
      "Лучшее значение F1-macro: 0.9943\n"
     ]
    }
   ],
   "source": [
    "ga_instance.run()\n",
    "# pbar.close()\n",
    "solution, solution_fitness, solution_idx = ga_instance.best_solution()\n",
    "print(f\"Лучшие гиперпараметры: n_neighbors={int(solution[0])}, p={int(solution[1])}\")\n",
    "print(f\"Лучшее значение F1-macro: {solution_fitness:.4f}\")"
   ]
  }
 ],
 "metadata": {
  "kernelspec": {
   "display_name": "venv",
   "language": "python",
   "name": "python3"
  },
  "language_info": {
   "codemirror_mode": {
    "name": "ipython",
    "version": 3
   },
   "file_extension": ".py",
   "mimetype": "text/x-python",
   "name": "python",
   "nbconvert_exporter": "python",
   "pygments_lexer": "ipython3",
   "version": "3.12.9"
  }
 },
 "nbformat": 4,
 "nbformat_minor": 2
}
