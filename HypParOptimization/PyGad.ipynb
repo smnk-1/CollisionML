{
 "cells": [
  {
   "cell_type": "code",
   "execution_count": 1,
   "metadata": {},
   "outputs": [],
   "source": [
    "import numpy as np\n",
    "import matplotlib.pyplot as plt\n",
    "\n",
    "from sklearn.metrics import *\n",
    "\n",
    "from sklearn.model_selection import cross_val_score\n",
    "\n",
    "import pygad\n",
    "\n",
    "from tqdm import tqdm"
   ]
  },
  {
   "cell_type": "code",
   "execution_count": 2,
   "metadata": {},
   "outputs": [],
   "source": [
    "X_train = np.load('X_train.npy')\n",
    "X_test  = np.load('X_test.npy')\n",
    "y_train = np.load('y_train.npy')\n",
    "y_test  = np.load('y_test.npy')"
   ]
  },
  {
   "cell_type": "markdown",
   "metadata": {},
   "source": [
    "# Классический генетический алгоритм\n",
    "\n",
    "Оптимизация гипер параметров с помощью PyGad"
   ]
  },
  {
   "cell_type": "markdown",
   "metadata": {},
   "source": [
    "## KNN"
   ]
  },
  {
   "cell_type": "code",
   "execution_count": 4,
   "metadata": {},
   "outputs": [],
   "source": [
    "from sklearn.neighbors import KNeighborsClassifier"
   ]
  },
  {
   "cell_type": "code",
   "execution_count": 40,
   "metadata": {},
   "outputs": [],
   "source": [
    "num_generations = 20\n",
    "sol_per_pop     = 10"
   ]
  },
  {
   "cell_type": "code",
   "execution_count": 41,
   "metadata": {},
   "outputs": [
    {
     "name": "stderr",
     "output_type": "stream",
     "text": [
      "GA evaluations:   0%|          | 1/200 [00:11<36:29, 11.00s/it]\n"
     ]
    }
   ],
   "source": [
    "total_evals = num_generations * sol_per_pop\n",
    "pbar = tqdm(total=total_evals, desc=\"GA evaluations\")"
   ]
  },
  {
   "cell_type": "code",
   "execution_count": 42,
   "metadata": {},
   "outputs": [],
   "source": [
    "def fitness_func(ga_instance, solution, solution_idx):\n",
    "    pbar.update(1)\n",
    "    \n",
    "    model = KNeighborsClassifier(\n",
    "        n_neighbors=int(solution[0]),\n",
    "        p=int(solution[1]),\n",
    "        n_jobs=-1\n",
    "    )\n",
    "\n",
    "    score = cross_val_score(\n",
    "        model,\n",
    "        X_train, \n",
    "        y_train, \n",
    "        cv=3,\n",
    "        scoring='f1_macro',\n",
    "        n_jobs=-1\n",
    "    ).mean()\n",
    "\n",
    "    return score"
   ]
  },
  {
   "cell_type": "code",
   "execution_count": 43,
   "metadata": {},
   "outputs": [],
   "source": [
    "gene_space = [\n",
    "    {'low': 1, 'high': 100},  # n_neighbours\n",
    "    {'low': 1, 'high': 10}     # p\n",
    "]"
   ]
  },
  {
   "cell_type": "code",
   "execution_count": 44,
   "metadata": {},
   "outputs": [],
   "source": [
    "ga_instance = pygad.GA(\n",
    "    num_generations=num_generations,\n",
    "    sol_per_pop=sol_per_pop,\n",
    "    num_parents_mating=5,\n",
    "    num_genes=2,\n",
    "    fitness_func=fitness_func,\n",
    "    gene_space=gene_space,\n",
    "    parent_selection_type=\"rank\",\n",
    "    keep_parents=2,\n",
    "    mutation_type=\"random\",\n",
    "    mutation_percent_genes=50,\n",
    "    random_seed=42\n",
    ")"
   ]
  },
  {
   "cell_type": "code",
   "execution_count": 45,
   "metadata": {},
   "outputs": [
    {
     "name": "stderr",
     "output_type": "stream",
     "text": [
      "GA evaluations:  98%|█████████▊| 195/200 [2:04:23<02:13, 26.61s/it]  "
     ]
    },
    {
     "name": "stdout",
     "output_type": "stream",
     "text": [
      "Лучшие гиперпараметры: n_neighbors=2, p=7\n",
      "Лучшее значение F1-macro: 0.9943\n"
     ]
    }
   ],
   "source": [
    "ga_instance.run()\n",
    "# pbar.close()\n",
    "solution, solution_fitness, solution_idx = ga_instance.best_solution()\n",
    "print(f\"Лучшие гиперпараметры: n_neighbors={int(solution[0])}, p={int(solution[1])}\")\n",
    "print(f\"Лучшее значение F1-macro: {solution_fitness:.4f}\")"
   ]
  },
  {
   "cell_type": "markdown",
   "metadata": {},
   "source": [
    "### Лучшие значения\n",
    "\n",
    "Лучшие гиперпараметры: n_neighbors=2, p=7\n",
    "\n",
    "Лучшее значение F1-macro: 0.9943"
   ]
  },
  {
   "cell_type": "markdown",
   "metadata": {},
   "source": [
    "## SVC (отброшен ввиду слишком долгих вычислений)"
   ]
  },
  {
   "cell_type": "code",
   "execution_count": 13,
   "metadata": {},
   "outputs": [],
   "source": [
    "from sklearn.svm import SVC"
   ]
  },
  {
   "cell_type": "code",
   "execution_count": 14,
   "metadata": {},
   "outputs": [],
   "source": [
    "from sklearn.pipeline import Pipeline\n",
    "from sklearn.preprocessing import StandardScaler"
   ]
  },
  {
   "cell_type": "code",
   "execution_count": 15,
   "metadata": {},
   "outputs": [],
   "source": [
    "populationa_size = 20\n",
    "num_generations = 50"
   ]
  },
  {
   "cell_type": "code",
   "execution_count": 16,
   "metadata": {},
   "outputs": [],
   "source": [
    "kernel_options = ['linear', 'poly', 'rbf', 'sigmoid']\n",
    "gamma_type_options = ['scale', 'value']"
   ]
  },
  {
   "cell_type": "code",
   "execution_count": 17,
   "metadata": {},
   "outputs": [
    {
     "name": "stderr",
     "output_type": "stream",
     "text": [
      "GA iterations:   0%|          | 1/1000 [00:18<5:04:53, 18.31s/it]\n"
     ]
    }
   ],
   "source": [
    "pbar2 = tqdm(total=populationa_size * num_generations, desc=\"GA iterations\")"
   ]
  },
  {
   "cell_type": "code",
   "execution_count": 18,
   "metadata": {},
   "outputs": [],
   "source": [
    "def decode_solution(solution):\n",
    "    \"\"\"\n",
    "    Преобразует вектор решения (фиксированной длины) в словарь гиперпараметров для SVC.\n",
    "    Ожидается, что решение имеет длину 6:\n",
    "      0: log10(C) -> C = 10^(solution[0])\n",
    "      1: kernel_idx (0 до 3)\n",
    "      2: gamma_type_idx (0 или 1): 0 -> 'scale', 1 -> 'value'\n",
    "      3: log10(gamma) -> используется если kernel в ['poly', 'rbf', 'sigmoid'] и gamma_type=='value'\n",
    "      4: degree -> используется только если kernel=='poly'\n",
    "      5: coef0  -> используется если kernel in ['poly', 'sigmoid']\n",
    "    \"\"\"\n",
    "    params = {\n",
    "        'C': 10 ** solution[0],\n",
    "        'kernel': kernel_options[int(solution[1])],\n",
    "        'gamma': 'scale',  # по умолчанию\n",
    "        'degree': 3,       # дефолтное для poly\n",
    "        'coef0': 0.0       # дефолтное для poly и sigmoid\n",
    "    }\n",
    "    \n",
    "    # Определение gamma_type\n",
    "    gamma_type = gamma_type_options[int(solution[2])]\n",
    "    \n",
    "    # Для некоторых ядер может использоваться дополнительный параметр gamma\n",
    "    if params['kernel'] in ['poly', 'rbf', 'sigmoid'] and gamma_type == 'value':\n",
    "        params['gamma'] = 10 ** solution[3]\n",
    "    # Иначе оставляем 'scale'\n",
    "    \n",
    "    # Если ядро poly, то берем значение для degree\n",
    "    if params['kernel'] == 'poly':\n",
    "        params['degree'] = int(solution[4])\n",
    "    \n",
    "    # Если ядро poly или sigmoid, то берем значение для coef0\n",
    "    if params['kernel'] in ['poly', 'sigmoid']:\n",
    "        params['coef0'] = solution[5]\n",
    "    \n",
    "    return params\n"
   ]
  },
  {
   "cell_type": "code",
   "execution_count": 19,
   "metadata": {},
   "outputs": [],
   "source": [
    "def fitness_func(ga_instance, solution, solution_idx):\n",
    "    pbar2.update(1)\n",
    "\n",
    "    params = decode_solution(solution)\n",
    "    pipeline = Pipeline([\n",
    "        ('scaler', StandardScaler()),\n",
    "        ('svc',    SVC(**params, random_state=42))\n",
    "    ])\n",
    "\n",
    "    \n",
    "    score = cross_val_score(\n",
    "        pipeline,\n",
    "        X_train,\n",
    "        y_train,\n",
    "        cv=3,\n",
    "        scoring='f1_macro',\n",
    "        n_jobs=-1\n",
    "    ).mean()\n",
    "\n",
    "    return score\n"
   ]
  },
  {
   "cell_type": "code",
   "execution_count": 20,
   "metadata": {},
   "outputs": [],
   "source": [
    "# Явное перечисление вариантов для целочисленных генов:\n",
    "gene_space = [\n",
    "    {'low': -3, 'high': 3},                    # log10(C)\n",
    "    [0, 1, 2, 3],                             # kernel_idx\n",
    "    [0, 1],                                   # gamma_type_idx\n",
    "    {'low': -5, 'high': 2},                    # log10(gamma)\n",
    "    [2, 3, 4, 5],                             # degree\n",
    "    {'low': -1.0, 'high': 1.0}                 # coef0\n",
    "]\n"
   ]
  },
  {
   "cell_type": "code",
   "execution_count": 21,
   "metadata": {},
   "outputs": [],
   "source": [
    "ga_instance = pygad.GA(\n",
    "    num_generations=num_generations,\n",
    "    sol_per_pop=populationa_size,\n",
    "    num_parents_mating=5,\n",
    "    fitness_func=fitness_func,\n",
    "    num_genes=len(gene_space),\n",
    "    gene_space=gene_space,\n",
    "    parent_selection_type=\"sss\",\n",
    "    keep_parents=2,\n",
    "    crossover_type=\"single_point\",\n",
    "    mutation_type=\"random\",\n",
    "    mutation_percent_genes=20\n",
    ")"
   ]
  },
  {
   "cell_type": "code",
   "execution_count": null,
   "metadata": {},
   "outputs": [],
   "source": [
    "ga_instance.run()"
   ]
  },
  {
   "cell_type": "code",
   "execution_count": null,
   "metadata": {},
   "outputs": [],
   "source": [
    "best_solution, best_solution_fitness, best_idx = ga_instance.best_solution()\n",
    "best_params = decode_solution(best_solution)"
   ]
  },
  {
   "cell_type": "code",
   "execution_count": null,
   "metadata": {},
   "outputs": [],
   "source": [
    "print(\"Лучшая приспособленность (f1_macro):\", best_solution_fitness)\n",
    "print(\"Лучшие гиперпараметры:\")\n",
    "for k, v in best_params.items():\n",
    "    print(f\"  {k}: {v}\")"
   ]
  },
  {
   "cell_type": "markdown",
   "metadata": {},
   "source": [
    "## DCT"
   ]
  },
  {
   "cell_type": "code",
   "execution_count": 3,
   "metadata": {},
   "outputs": [],
   "source": [
    "from sklearn.tree import DecisionTreeClassifier as DTC"
   ]
  },
  {
   "cell_type": "code",
   "execution_count": 4,
   "metadata": {},
   "outputs": [
    {
     "name": "stderr",
     "output_type": "stream",
     "text": [
      "GA evaluations:   0%|          | 0/600 [00:00<?, ?it/s]"
     ]
    }
   ],
   "source": [
    "total_evals = 30*20\n",
    "pbar3 = tqdm(total=total_evals, desc=\"GA evaluations\")"
   ]
  },
  {
   "cell_type": "code",
   "execution_count": 5,
   "metadata": {},
   "outputs": [],
   "source": [
    "gene_space = [\n",
    "    [0, 1, 2],       # criterion\n",
    "    [0, 1],             # splitter\n",
    "    list(range(1, 16)),             # max_depth от 1 до 15\n",
    "    list(range(2, 21)),             # min_samples_split от 2 до 20\n",
    "    list(range(1, 21)),             # min_samples_leaf от 1 до 20\n",
    "    [0, 1, 2],         # max_features\n",
    "]"
   ]
  },
  {
   "cell_type": "code",
   "execution_count": 6,
   "metadata": {},
   "outputs": [],
   "source": [
    "def decode_solution(solution):\n",
    "\n",
    "    params = {\n",
    "        'criterion': [\"gini\", \"entropy\", \"log_loss\"][int(solution[0])],\n",
    "        'splitter': [\"best\", \"random\"][int(solution[1])],\n",
    "        'max_depth': int(solution[2]),\n",
    "        'min_samples_split': int(solution[3]),  \n",
    "        'min_samples_leaf':  int(solution[4]),\n",
    "        'max_features': [\"sqrt\", \"log2\", None][int(solution[5])]\n",
    "    }\n",
    "    \n",
    "    return params"
   ]
  },
  {
   "cell_type": "code",
   "execution_count": null,
   "metadata": {},
   "outputs": [],
   "source": [
    "def fitness_func(s,solution, solution_idx):\n",
    "    pbar3.update(1)\n",
    "\n",
    "    params = decode_solution(solution=solution)\n",
    "\n",
    "    model = DTC(**params, random_state=42)\n",
    "    score = cross_val_score(model, X_train, y_train, cv=5, scoring=\"f1_macro\").mean()\n",
    "    return score"
   ]
  },
  {
   "cell_type": "code",
   "execution_count": 12,
   "metadata": {},
   "outputs": [],
   "source": [
    "ga = pygad.GA(\n",
    "    num_generations=30,            # число поколений\n",
    "    num_parents_mating=10,         # число родителей для скрещивания\n",
    "    fitness_func=fitness_func,\n",
    "    sol_per_pop=20,                # размер популяции\n",
    "    num_genes=len(gene_space),\n",
    "    gene_space=gene_space,\n",
    "    parent_selection_type=\"rank\",\n",
    "    crossover_type=\"single_point\",\n",
    "    mutation_type=\"random\",\n",
    "    mutation_percent_genes=20,\n",
    "    keep_parents=5,\n",
    "    on_generation=lambda ga: print(f\"Поколение {ga.generations_completed}: \"\n",
    "                                  f\"лучш. fitness = {ga.best_solution()[1]:.4f}\")\n",
    ")"
   ]
  },
  {
   "cell_type": "code",
   "execution_count": 13,
   "metadata": {},
   "outputs": [
    {
     "name": "stderr",
     "output_type": "stream",
     "text": [
      "GA evaluations:  10%|▉         | 59/600 [02:48<19:35,  2.17s/it] "
     ]
    },
    {
     "name": "stdout",
     "output_type": "stream",
     "text": [
      "Поколение 1: лучш. fitness = 0.9714\n"
     ]
    },
    {
     "name": "stderr",
     "output_type": "stream",
     "text": [
      "GA evaluations:  16%|█▌        | 95/600 [03:24<06:43,  1.25it/s]"
     ]
    },
    {
     "name": "stdout",
     "output_type": "stream",
     "text": [
      "Поколение 2: лучш. fitness = 0.9714\n"
     ]
    },
    {
     "name": "stderr",
     "output_type": "stream",
     "text": [
      "GA evaluations:  22%|██▏       | 129/600 [04:08<08:11,  1.04s/it]"
     ]
    },
    {
     "name": "stdout",
     "output_type": "stream",
     "text": [
      "Поколение 3: лучш. fitness = 0.9714\n"
     ]
    },
    {
     "name": "stderr",
     "output_type": "stream",
     "text": [
      "GA evaluations:  27%|██▋       | 163/600 [04:37<06:07,  1.19it/s]"
     ]
    },
    {
     "name": "stdout",
     "output_type": "stream",
     "text": [
      "Поколение 4: лучш. fitness = 0.9714\n"
     ]
    },
    {
     "name": "stderr",
     "output_type": "stream",
     "text": [
      "GA evaluations:  34%|███▎      | 201/600 [05:18<07:14,  1.09s/it]"
     ]
    },
    {
     "name": "stdout",
     "output_type": "stream",
     "text": [
      "Поколение 5: лучш. fitness = 0.9714\n"
     ]
    },
    {
     "name": "stderr",
     "output_type": "stream",
     "text": [
      "GA evaluations:  40%|███▉      | 239/600 [05:54<05:10,  1.16it/s]"
     ]
    },
    {
     "name": "stdout",
     "output_type": "stream",
     "text": [
      "Поколение 6: лучш. fitness = 0.9714\n"
     ]
    },
    {
     "name": "stderr",
     "output_type": "stream",
     "text": [
      "GA evaluations:  46%|████▌     | 275/600 [06:37<04:41,  1.15it/s]"
     ]
    },
    {
     "name": "stdout",
     "output_type": "stream",
     "text": [
      "Поколение 7: лучш. fitness = 0.9726\n"
     ]
    },
    {
     "name": "stderr",
     "output_type": "stream",
     "text": [
      "GA evaluations:  52%|█████▏    | 313/600 [07:11<04:00,  1.19it/s]"
     ]
    },
    {
     "name": "stdout",
     "output_type": "stream",
     "text": [
      "Поколение 8: лучш. fitness = 0.9726\n"
     ]
    },
    {
     "name": "stderr",
     "output_type": "stream",
     "text": [
      "GA evaluations:  58%|█████▊    | 349/600 [07:45<05:03,  1.21s/it]"
     ]
    },
    {
     "name": "stdout",
     "output_type": "stream",
     "text": [
      "Поколение 9: лучш. fitness = 0.9726\n"
     ]
    },
    {
     "name": "stderr",
     "output_type": "stream",
     "text": [
      "GA evaluations:  64%|██████▍   | 385/600 [08:21<02:41,  1.33it/s]"
     ]
    },
    {
     "name": "stdout",
     "output_type": "stream",
     "text": [
      "Поколение 10: лучш. fitness = 0.9726\n"
     ]
    },
    {
     "name": "stderr",
     "output_type": "stream",
     "text": [
      "GA evaluations:  70%|██████▉   | 419/600 [08:55<02:21,  1.28it/s]"
     ]
    },
    {
     "name": "stdout",
     "output_type": "stream",
     "text": [
      "Поколение 11: лучш. fitness = 0.9726\n"
     ]
    },
    {
     "name": "stderr",
     "output_type": "stream",
     "text": [
      "GA evaluations:  76%|███████▌  | 455/600 [09:24<01:50,  1.32it/s]"
     ]
    },
    {
     "name": "stdout",
     "output_type": "stream",
     "text": [
      "Поколение 12: лучш. fitness = 0.9726\n"
     ]
    },
    {
     "name": "stderr",
     "output_type": "stream",
     "text": [
      "GA evaluations:  82%|████████▏ | 491/600 [10:05<01:32,  1.17it/s]"
     ]
    },
    {
     "name": "stdout",
     "output_type": "stream",
     "text": [
      "Поколение 13: лучш. fitness = 0.9726\n"
     ]
    },
    {
     "name": "stderr",
     "output_type": "stream",
     "text": [
      "GA evaluations:  87%|████████▋ | 523/600 [10:42<01:25,  1.12s/it]"
     ]
    },
    {
     "name": "stdout",
     "output_type": "stream",
     "text": [
      "Поколение 14: лучш. fitness = 0.9726\n"
     ]
    },
    {
     "name": "stderr",
     "output_type": "stream",
     "text": [
      "GA evaluations:  93%|█████████▎| 557/600 [11:11<00:42,  1.00it/s]"
     ]
    },
    {
     "name": "stdout",
     "output_type": "stream",
     "text": [
      "Поколение 15: лучш. fitness = 0.9726\n"
     ]
    },
    {
     "name": "stderr",
     "output_type": "stream",
     "text": [
      "GA evaluations:  99%|█████████▉| 595/600 [11:43<00:04,  1.10it/s]"
     ]
    },
    {
     "name": "stdout",
     "output_type": "stream",
     "text": [
      "Поколение 16: лучш. fitness = 0.9726\n"
     ]
    },
    {
     "name": "stderr",
     "output_type": "stream",
     "text": [
      "GA evaluations: 629it [12:25,  1.05it/s]                         "
     ]
    },
    {
     "name": "stdout",
     "output_type": "stream",
     "text": [
      "Поколение 17: лучш. fitness = 0.9756\n"
     ]
    },
    {
     "name": "stderr",
     "output_type": "stream",
     "text": [
      "GA evaluations: 667it [12:55,  1.25it/s]"
     ]
    },
    {
     "name": "stdout",
     "output_type": "stream",
     "text": [
      "Поколение 18: лучш. fitness = 0.9756\n"
     ]
    },
    {
     "name": "stderr",
     "output_type": "stream",
     "text": [
      "GA evaluations: 705it [13:29,  1.06s/it]"
     ]
    },
    {
     "name": "stdout",
     "output_type": "stream",
     "text": [
      "Поколение 19: лучш. fitness = 0.9756\n"
     ]
    },
    {
     "name": "stderr",
     "output_type": "stream",
     "text": [
      "GA evaluations: 743it [14:09,  1.10it/s]"
     ]
    },
    {
     "name": "stdout",
     "output_type": "stream",
     "text": [
      "Поколение 20: лучш. fitness = 0.9756\n"
     ]
    },
    {
     "name": "stderr",
     "output_type": "stream",
     "text": [
      "GA evaluations: 779it [14:57,  1.26s/it]"
     ]
    },
    {
     "name": "stdout",
     "output_type": "stream",
     "text": [
      "Поколение 21: лучш. fitness = 0.9817\n"
     ]
    },
    {
     "name": "stderr",
     "output_type": "stream",
     "text": [
      "GA evaluations: 817it [15:42,  1.05s/it]"
     ]
    },
    {
     "name": "stdout",
     "output_type": "stream",
     "text": [
      "Поколение 22: лучш. fitness = 0.9817\n"
     ]
    },
    {
     "name": "stderr",
     "output_type": "stream",
     "text": [
      "GA evaluations: 853it [16:23,  1.23s/it]"
     ]
    },
    {
     "name": "stdout",
     "output_type": "stream",
     "text": [
      "Поколение 23: лучш. fitness = 0.9817\n"
     ]
    },
    {
     "name": "stderr",
     "output_type": "stream",
     "text": [
      "GA evaluations: 891it [17:18,  1.75s/it]"
     ]
    },
    {
     "name": "stdout",
     "output_type": "stream",
     "text": [
      "Поколение 24: лучш. fitness = 0.9817\n"
     ]
    },
    {
     "name": "stderr",
     "output_type": "stream",
     "text": [
      "GA evaluations: 923it [18:07,  1.15s/it]"
     ]
    },
    {
     "name": "stdout",
     "output_type": "stream",
     "text": [
      "Поколение 25: лучш. fitness = 0.9817\n"
     ]
    },
    {
     "name": "stderr",
     "output_type": "stream",
     "text": [
      "GA evaluations: 959it [18:52,  1.41s/it]"
     ]
    },
    {
     "name": "stdout",
     "output_type": "stream",
     "text": [
      "Поколение 26: лучш. fitness = 0.9817\n"
     ]
    },
    {
     "name": "stderr",
     "output_type": "stream",
     "text": [
      "GA evaluations: 993it [19:40,  1.03it/s]"
     ]
    },
    {
     "name": "stdout",
     "output_type": "stream",
     "text": [
      "Поколение 27: лучш. fitness = 0.9817\n"
     ]
    },
    {
     "name": "stderr",
     "output_type": "stream",
     "text": [
      "GA evaluations: 1027it [20:15,  1.79s/it]"
     ]
    },
    {
     "name": "stdout",
     "output_type": "stream",
     "text": [
      "Поколение 28: лучш. fitness = 0.9817\n"
     ]
    },
    {
     "name": "stderr",
     "output_type": "stream",
     "text": [
      "GA evaluations: 1063it [20:55,  1.04s/it]"
     ]
    },
    {
     "name": "stdout",
     "output_type": "stream",
     "text": [
      "Поколение 29: лучш. fitness = 0.9817\n"
     ]
    },
    {
     "name": "stderr",
     "output_type": "stream",
     "text": [
      "GA evaluations: 1100it [21:51,  1.54s/it]"
     ]
    },
    {
     "name": "stdout",
     "output_type": "stream",
     "text": [
      "Поколение 30: лучш. fitness = 0.9817\n"
     ]
    }
   ],
   "source": [
    "ga.run()"
   ]
  },
  {
   "cell_type": "code",
   "execution_count": 15,
   "metadata": {},
   "outputs": [
    {
     "name": "stderr",
     "output_type": "stream",
     "text": [
      "GA evaluations: 1120it [46:11,  1.49s/it]"
     ]
    },
    {
     "name": "stdout",
     "output_type": "stream",
     "text": [
      "Лучшая точность: 0.9816791615907189\n",
      "Лучшие гиперпараметры: {'criterion': 'gini', 'splitter': 'best', 'max_depth': 15, 'min_samples_split': 11, 'min_samples_leaf': 2, 'max_features': None}\n"
     ]
    }
   ],
   "source": [
    "best_solution, best_fitness, _ = ga.best_solution()\n",
    "best_params = decode_solution(best_solution)\n",
    "\n",
    "print(\"Лучшая точность:\", best_fitness)\n",
    "print(\"Лучшие гиперпараметры:\", best_params)"
   ]
  },
  {
   "cell_type": "markdown",
   "metadata": {},
   "source": [
    "### Лучшие значения\n",
    "\n",
    "Лучшая точность: 0.9816791615907189\n",
    "\n",
    "Лучшие гиперпараметры: {'criterion': 'gini', 'splitter': 'best', 'max_depth': 15, 'min_samples_split': 11, 'min_samples_leaf': 2, 'max_features': None}"
   ]
  }
 ],
 "metadata": {
  "kernelspec": {
   "display_name": "venv",
   "language": "python",
   "name": "python3"
  },
  "language_info": {
   "codemirror_mode": {
    "name": "ipython",
    "version": 3
   },
   "file_extension": ".py",
   "mimetype": "text/x-python",
   "name": "python",
   "nbconvert_exporter": "python",
   "pygments_lexer": "ipython3",
   "version": "3.12.10"
  }
 },
 "nbformat": 4,
 "nbformat_minor": 2
}
