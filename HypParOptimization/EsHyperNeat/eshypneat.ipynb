{
 "cells": [
  {
   "cell_type": "code",
   "execution_count": 1,
   "id": "56f6d87a",
   "metadata": {},
   "outputs": [],
   "source": [
    "import numpy as np\n",
    "import pickle\n",
    "from sklearn.metrics import f1_score, accuracy_score, classification_report, confusion_matrix\n",
    "from sklearn.utils.class_weight import compute_sample_weight\n",
    "import neat\n",
    "from neat import Config, Population, DefaultGenome, DefaultReproduction, DefaultSpeciesSet, DefaultStagnation\n",
    "\n",
    "from pureples.shared.substrate import Substrate\n",
    "from pureples.shared.create_cppn import create_cppn\n",
    "from pureples.es_hyperneat.es_hyperneat import ESNetwork"
   ]
  },
  {
   "cell_type": "code",
   "execution_count": 2,
   "id": "6be30eb4",
   "metadata": {},
   "outputs": [],
   "source": [
    "X_train = np.load('../X_train.npy')\n",
    "y_train = np.load('../y_train.npy')\n",
    "X_test  = np.load('../X_test.npy')\n",
    "y_test  = np.load('../y_test.npy')\n"
   ]
  },
  {
   "cell_type": "code",
   "execution_count": 3,
   "id": "07734d5d",
   "metadata": {},
   "outputs": [],
   "source": [
    "from imblearn.over_sampling import SMOTE\n",
    "import matplotlib.pyplot as plt\n",
    "smote = SMOTE(random_state=42)\n",
    "X_test, y_test = smote.fit_resample(X_test, y_test)\n"
   ]
  },
  {
   "cell_type": "code",
   "execution_count": 4,
   "id": "4d858049",
   "metadata": {},
   "outputs": [
    {
     "data": {
      "image/png": "[encoded data removed]",
      "text/plain": [
       "<Figure size 640x480 with 1 Axes>"
      ]
     },
     "metadata": {},
     "output_type": "display_data"
    },
    {
     "data": {
      "text/plain": [
       "(array([121813.,      0.,      0.,      0.,      0.,      0.,      0.,\n",
       "             0.,      0., 121813.]),\n",
       " array([0. , 0.1, 0.2, 0.3, 0.4, 0.5, 0.6, 0.7, 0.8, 0.9, 1. ]),\n",
       " <BarContainer object of 10 artists>)"
      ]
     },
     "execution_count": 4,
     "metadata": {},
     "output_type": "execute_result"
    },
    {
     "data": {
      "image/png": "[encoded data removed]",
      "text/plain": [
       "<Figure size 640x480 with 1 Axes>"
      ]
     },
     "metadata": {},
     "output_type": "display_data"
    }
   ],
   "source": [
    "plt.hist(y_train)\n",
    "plt.show()\n",
    "plt.hist(y_test, color='orange')"
   ]
  },
  {
   "cell_type": "code",
   "execution_count": 5,
   "id": "25ff0f8e",
   "metadata": {},
   "outputs": [],
   "source": [
    "# sample_train = 200000\n",
    "# X_train = X_train[:sample_train]\n",
    "# y_train = y_train[:sample_train]\n",
    "# plt.hist(y_train)\n",
    "# print(f\"Train: {X_train.shape}, Test: {X_test.shape}\")"
   ]
  },
  {
   "cell_type": "code",
   "execution_count": 6,
   "id": "9235757e",
   "metadata": {},
   "outputs": [],
   "source": [
    "i_coords = [(-1.0 + i*(2.0/3.0), 1.0) for i in range(4)]\n",
    "hidden_coords = []\n",
    "o_coords = [(0.0, -1.0)]  \n",
    "substrate = Substrate(i_coords, o_coords, hidden_coords)"
   ]
  },
  {
   "cell_type": "code",
   "execution_count": 7,
   "id": "4f472136",
   "metadata": {},
   "outputs": [],
   "source": [
    "es_params = {\n",
    "    \"initial_depth\":      1,\n",
    "    \"max_depth\":          3,\n",
    "    \"variance_threshold\": 0.03,\n",
    "    \"band_threshold\":     0.2,\n",
    "    \"iteration_level\":    1,\n",
    "    \"division_threshold\": 0.3,\n",
    "    \"max_weight\":         5.0,\n",
    "    \"activation\":         \"tanh\",\n",
    "}"
   ]
  },
  {
   "cell_type": "code",
   "execution_count": 8,
   "id": "5b5d6f46",
   "metadata": {},
   "outputs": [],
   "source": [
    "def eval_genomes(genomes, config):\n",
    "    for gid, genome in genomes:\n",
    "        cppn = create_cppn(\n",
    "            genome,\n",
    "            config,\n",
    "            output_activation_function=es_params[\"activation\"]\n",
    "        )\n",
    "        es_net = ESNetwork(substrate, cppn, es_params)\n",
    "        net    = es_net.create_phenotype_network()\n",
    "\n",
    "        preds = [int(net.activate(x)[0] > 0.5) for x in X_train]\n",
    "\n",
    "        genome.fitness = f1_score(y_train, preds, average='weighted')\n"
   ]
  },
  {
   "cell_type": "code",
   "execution_count": 9,
   "id": "8cd28e13",
   "metadata": {},
   "outputs": [
    {
     "name": "stdout",
     "output_type": "stream",
     "text": [
      "\n",
      " ****** Running generation 0 ****** \n",
      "\n"
     ]
    },
    {
     "ename": "KeyboardInterrupt",
     "evalue": "",
     "output_type": "error",
     "traceback": [
      "\u001b[31m---------------------------------------------------------------------------\u001b[39m",
      "\u001b[31mKeyboardInterrupt\u001b[39m                         Traceback (most recent call last)",
      "\u001b[36mCell\u001b[39m\u001b[36m \u001b[39m\u001b[32mIn[9]\u001b[39m\u001b[32m, line 8\u001b[39m\n\u001b[32m      5\u001b[39m pop.add_reporter(neat.StdOutReporter(\u001b[38;5;28;01mTrue\u001b[39;00m))\n\u001b[32m      6\u001b[39m pop.add_reporter(neat.StatisticsReporter())\n\u001b[32m----> \u001b[39m\u001b[32m8\u001b[39m winner = \u001b[43mpop\u001b[49m\u001b[43m.\u001b[49m\u001b[43mrun\u001b[49m\u001b[43m(\u001b[49m\u001b[43meval_genomes\u001b[49m\u001b[43m,\u001b[49m\u001b[43m \u001b[49m\u001b[43mn\u001b[49m\u001b[43m=\u001b[49m\u001b[32;43m20\u001b[39;49m\u001b[43m)\u001b[49m\n",
      "\u001b[36mFile \u001b[39m\u001b[32m~/Documents/Programming/LAB-2/venv/lib/python3.13/site-packages/neat/population.py:89\u001b[39m, in \u001b[36mPopulation.run\u001b[39m\u001b[34m(self, fitness_function, n)\u001b[39m\n\u001b[32m     86\u001b[39m \u001b[38;5;28mself\u001b[39m.reporters.start_generation(\u001b[38;5;28mself\u001b[39m.generation)\n\u001b[32m     88\u001b[39m \u001b[38;5;66;03m# Evaluate all genomes using the user-provided function.\u001b[39;00m\n\u001b[32m---> \u001b[39m\u001b[32m89\u001b[39m \u001b[43mfitness_function\u001b[49m\u001b[43m(\u001b[49m\u001b[38;5;28;43mlist\u001b[39;49m\u001b[43m(\u001b[49m\u001b[43miteritems\u001b[49m\u001b[43m(\u001b[49m\u001b[38;5;28;43mself\u001b[39;49m\u001b[43m.\u001b[49m\u001b[43mpopulation\u001b[49m\u001b[43m)\u001b[49m\u001b[43m)\u001b[49m\u001b[43m,\u001b[49m\u001b[43m \u001b[49m\u001b[38;5;28;43mself\u001b[39;49m\u001b[43m.\u001b[49m\u001b[43mconfig\u001b[49m\u001b[43m)\u001b[49m\n\u001b[32m     91\u001b[39m \u001b[38;5;66;03m# Gather and report statistics.\u001b[39;00m\n\u001b[32m     92\u001b[39m best = \u001b[38;5;28;01mNone\u001b[39;00m\n",
      "\u001b[36mCell\u001b[39m\u001b[36m \u001b[39m\u001b[32mIn[8]\u001b[39m\u001b[32m, line 11\u001b[39m, in \u001b[36meval_genomes\u001b[39m\u001b[34m(genomes, config)\u001b[39m\n\u001b[32m      8\u001b[39m es_net = ESNetwork(substrate, cppn, es_params)\n\u001b[32m      9\u001b[39m net    = es_net.create_phenotype_network()\n\u001b[32m---> \u001b[39m\u001b[32m11\u001b[39m preds = [\u001b[38;5;28mint\u001b[39m(\u001b[43mnet\u001b[49m\u001b[43m.\u001b[49m\u001b[43mactivate\u001b[49m\u001b[43m(\u001b[49m\u001b[43mx\u001b[49m\u001b[43m)\u001b[49m[\u001b[32m0\u001b[39m] > \u001b[32m0.5\u001b[39m) \u001b[38;5;28;01mfor\u001b[39;00m x \u001b[38;5;129;01min\u001b[39;00m X_train]\n\u001b[32m     13\u001b[39m genome.fitness = f1_score(y_train, preds, average=\u001b[33m'\u001b[39m\u001b[33mweighted\u001b[39m\u001b[33m'\u001b[39m)\n",
      "\u001b[36mFile \u001b[39m\u001b[32m~/Documents/Programming/LAB-2/venv/lib/python3.13/site-packages/neat/nn/recurrent.py:43\u001b[39m, in \u001b[36mRecurrentNetwork.activate\u001b[39m\u001b[34m(self, inputs)\u001b[39m\n\u001b[32m     40\u001b[39m     s = aggregation(node_inputs)\n\u001b[32m     41\u001b[39m     ovalues[node] = activation(bias + response * s)\n\u001b[32m---> \u001b[39m\u001b[32m43\u001b[39m \u001b[38;5;28;01mreturn\u001b[39;00m [ovalues[i] \u001b[38;5;28;01mfor\u001b[39;00m i \u001b[38;5;129;01min\u001b[39;00m \u001b[38;5;28mself\u001b[39m.output_nodes]\n",
      "\u001b[31mKeyboardInterrupt\u001b[39m: "
     ]
    }
   ],
   "source": [
    "config_path = \"es_hyper_neat.cfg\"\n",
    "config = Config(DefaultGenome, DefaultReproduction, DefaultSpeciesSet, DefaultStagnation, config_path)\n",
    "\n",
    "pop = Population(config)\n",
    "pop.add_reporter(neat.StdOutReporter(True))\n",
    "pop.add_reporter(neat.StatisticsReporter())\n",
    "\n",
    "winner = pop.run(eval_genomes, n=20)"
   ]
  },
  {
   "cell_type": "code",
   "execution_count": null,
   "id": "f0a0ad3d",
   "metadata": {},
   "outputs": [],
   "source": [
    "with open(\"es_hyper_model.pkl\", \"wb\") as f:\n",
    "    pickle.dump(winner, f)"
   ]
  },
  {
   "cell_type": "code",
   "execution_count": null,
   "id": "4a04be77",
   "metadata": {},
   "outputs": [
    {
     "name": "stdout",
     "output_type": "stream",
     "text": [
      "\n",
      "— Test metrics —\n",
      "Accuracy       : 0.9516640625\n",
      "F1-score       : 0.92809465036097\n",
      "\n",
      "Classification report:\n",
      "               precision    recall  f1-score   support\n",
      "\n",
      "           0       0.95      1.00      0.98    121813\n",
      "           1       0.00      0.00      0.00      6187\n",
      "\n",
      "    accuracy                           0.95    128000\n",
      "   macro avg       0.48      0.50      0.49    128000\n",
      "weighted avg       0.91      0.95      0.93    128000\n",
      "\n",
      "Confusion matrix:\n",
      " [[121813      0]\n",
      " [  6187      0]]\n"
     ]
    },
    {
     "name": "stderr",
     "output_type": "stream",
     "text": [
      "/Users/nikolajsemikin/Documents/Programming/LAB-2/venv/lib/python3.13/site-packages/sklearn/metrics/_classification.py:1565: UndefinedMetricWarning: Precision is ill-defined and being set to 0.0 in labels with no predicted samples. Use `zero_division` parameter to control this behavior.\n",
      "  _warn_prf(average, modifier, f\"{metric.capitalize()} is\", len(result))\n",
      "/Users/nikolajsemikin/Documents/Programming/LAB-2/venv/lib/python3.13/site-packages/sklearn/metrics/_classification.py:1565: UndefinedMetricWarning: Precision is ill-defined and being set to 0.0 in labels with no predicted samples. Use `zero_division` parameter to control this behavior.\n",
      "  _warn_prf(average, modifier, f\"{metric.capitalize()} is\", len(result))\n",
      "/Users/nikolajsemikin/Documents/Programming/LAB-2/venv/lib/python3.13/site-packages/sklearn/metrics/_classification.py:1565: UndefinedMetricWarning: Precision is ill-defined and being set to 0.0 in labels with no predicted samples. Use `zero_division` parameter to control this behavior.\n",
      "  _warn_prf(average, modifier, f\"{metric.capitalize()} is\", len(result))\n"
     ]
    }
   ],
   "source": [
    "cppn_w = create_cppn(winner, config, output_activation_function=es_params[\"activation\"])\n",
    "es_net_w = ESNetwork(substrate, cppn_w, es_params)\n",
    "net_w    = es_net_w.create_phenotype_network()\n",
    "\n",
    "y_pred = [int(net_w.activate(x)[0] > 0.5) for x in X_test]\n",
    "\n",
    "print(\"\\n— Test metrics —\")\n",
    "print(\"Accuracy       :\", accuracy_score(y_test, y_pred))\n",
    "print(\"F1-score       :\", f1_score(y_test, y_pred, average='weighted'))\n",
    "print(\"\\nClassification report:\\n\", classification_report(y_test, y_pred))\n",
    "print(\"Confusion matrix:\\n\", confusion_matrix(y_test, y_pred))"
   ]
  }
 ],
 "metadata": {
  "kernelspec": {
   "display_name": "venv",
   "language": "python",
   "name": "python3"
  },
  "language_info": {
   "codemirror_mode": {
    "name": "ipython",
    "version": 3
   },
   "file_extension": ".py",
   "mimetype": "text/x-python",
   "name": "python",
   "nbconvert_exporter": "python",
   "pygments_lexer": "ipython3",
   "version": "3.13.2"
  }
 },
 "nbformat": 4,
 "nbformat_minor": 5
}
