{
 "cells": [
  {
   "cell_type": "code",
   "execution_count": 1,
   "id": "56f6d87a",
   "metadata": {},
   "outputs": [],
   "source": [
    "import numpy as np\n",
    "import pickle\n",
    "from sklearn.metrics import f1_score, accuracy_score, classification_report, confusion_matrix\n",
    "from sklearn.utils.class_weight import compute_sample_weight\n",
    "import neat\n",
    "from neat import Config, Population, DefaultGenome, DefaultReproduction, DefaultSpeciesSet, DefaultStagnation\n",
    "\n",
    "from pureples.shared.substrate import Substrate\n",
    "from pureples.shared.create_cppn import create_cppn\n",
    "from pureples.es_hyperneat.es_hyperneat import ESNetwork"
   ]
  },
  {
   "cell_type": "code",
   "execution_count": 2,
   "id": "6be30eb4",
   "metadata": {},
   "outputs": [],
   "source": [
    "X_train = np.load('../X_train.npy')\n",
    "y_train = np.load('../y_train.npy')\n",
    "X_test  = np.load('../X_test.npy')\n",
    "y_test  = np.load('../y_test.npy')\n"
   ]
  },
  {
   "cell_type": "code",
   "execution_count": 3,
   "id": "07734d5d",
   "metadata": {},
   "outputs": [],
   "source": [
    "from imblearn.over_sampling import SMOTE\n",
    "import matplotlib.pyplot as plt\n",
    "smote = SMOTE(random_state=42)\n",
    "X_train, y_train = smote.fit_resample(X_test, y_test)\n"
   ]
  },
  {
   "cell_type": "code",
   "execution_count": 4,
   "id": "4d858049",
   "metadata": {},
   "outputs": [
    {
     "data": {
      "image/png": "[encoded data removed]",
      "text/plain": [
       "<Figure size 640x480 with 1 Axes>"
      ]
     },
     "metadata": {},
     "output_type": "display_data"
    },
    {
     "data": {
      "text/plain": [
       "(array([121813.,      0.,      0.,      0.,      0.,      0.,      0.,\n",
       "             0.,      0.,   6187.]),\n",
       " array([0. , 0.1, 0.2, 0.3, 0.4, 0.5, 0.6, 0.7, 0.8, 0.9, 1. ]),\n",
       " <BarContainer object of 10 artists>)"
      ]
     },
     "execution_count": 4,
     "metadata": {},
     "output_type": "execute_result"
    },
    {
     "data": {
      "image/png": "[encoded data removed]",
      "text/plain": [
       "<Figure size 640x480 with 1 Axes>"
      ]
     },
     "metadata": {},
     "output_type": "display_data"
    }
   ],
   "source": [
    "plt.hist(y_train)\n",
    "plt.show()\n",
    "plt.hist(y_test, color='orange')"
   ]
  },
  {
   "cell_type": "code",
   "execution_count": 5,
   "id": "25ff0f8e",
   "metadata": {},
   "outputs": [
    {
     "name": "stdout",
     "output_type": "stream",
     "text": [
      "Train: (243626, 4), Test: (128000, 4)\n",
      "(243626,) (128000,)\n"
     ]
    }
   ],
   "source": [
    "sample_train = 20000\n",
    "# X_train = X_train.\n",
    "# y_train = y_train[:sample_train]\n",
    "# plt.hist(y_train)\n",
    "print(f\"Train: {X_train.shape}, Test: {X_test.shape}\")\n",
    "print(y_train.shape, y_test.shape)"
   ]
  },
  {
   "cell_type": "code",
   "execution_count": 6,
   "id": "9235757e",
   "metadata": {},
   "outputs": [],
   "source": [
    "i_coords = [(-1.0, 0.5), (0.0, 0.5), (1.0, 0.5), (0.5, 1.0)] \n",
    "hidden_coords = []\n",
    "o_coords = [(0.0, -1.0)]\n",
    "substrate = Substrate(i_coords, o_coords, hidden_coords)"
   ]
  },
  {
   "cell_type": "code",
   "execution_count": 7,
   "id": "4f472136",
   "metadata": {},
   "outputs": [],
   "source": [
    "es_params = {\n",
    "    \"initial_depth\": 0,      # Было 1\n",
    "    \"max_depth\": 1,          # Было 3\n",
    "    \"variance_threshold\": 0.03,\n",
    "    \"band_threshold\": 0.2,\n",
    "    \"iteration_level\": 1,\n",
    "    \"division_threshold\": 0.3,\n",
    "    \"max_weight\": 5.0,\n",
    "    \"activation\": \"sigmoid\",\n",
    "}"
   ]
  },
  {
   "cell_type": "code",
   "execution_count": 8,
   "id": "5b5d6f46",
   "metadata": {},
   "outputs": [],
   "source": [
    "def eval_genomes(genomes, config):\n",
    "    for gid, genome in genomes:\n",
    "        # Проверка данных ДО создания сети\n",
    "        if len(X_train[0]) != 4:\n",
    "            raise ValueError(f\"Ожидается 4 признака, получено {len(X_train[0])}\")\n",
    "\n",
    "        cppn = create_cppn(genome, config, \"sigmoid\")\n",
    "        es_net = ESNetwork(substrate, cppn, es_params)\n",
    "        net = es_net.create_phenotype_network()\n",
    "        \n",
    "        # Проверка первого элемента данных\n",
    "        sample_input = X_train[0]\n",
    "        # print(\"Размерность входных данных:\", len(sample_input))  # Должно быть 4\n",
    "        \n",
    "        preds = [int(net.activate(x)[0] > 0) for x in X_train]\n",
    "\n",
    "        sample_weights = compute_sample_weight('balanced', y_train)\n",
    "        genome.fitness = accuracy_score(y_train, preds, sample_weight=sample_weights)\n"
   ]
  },
  {
   "cell_type": "code",
   "execution_count": 9,
   "id": "8cd28e13",
   "metadata": {},
   "outputs": [
    {
     "name": "stdout",
     "output_type": "stream",
     "text": [
      "\n",
      " ****** Running generation 0 ****** \n",
      "\n",
      "Population's average fitness: 0.50000 stdev: 0.00000\n",
      "Best fitness: 0.50000 - size: (1, 5) - species 1 - id 1\n",
      "Average adjusted fitness: 0.000\n",
      "Mean genetic distance 0.952, standard deviation 0.383\n",
      "Population of 150 members in 1 species:\n",
      "   ID   age  size  fitness  adj fit  stag\n",
      "  ====  ===  ====  =======  =======  ====\n",
      "     1    0   150      0.5    0.000     0\n",
      "Total extinctions: 0\n",
      "Generation time: 38.997 sec\n",
      "\n",
      " ****** Running generation 1 ****** \n",
      "\n",
      "Population's average fitness: 0.50000 stdev: 0.00000\n",
      "Best fitness: 0.50000 - size: (1, 5) - species 1 - id 1\n",
      "Average adjusted fitness: 0.000\n",
      "Mean genetic distance 1.146, standard deviation 0.457\n",
      "Population of 150 members in 1 species:\n",
      "   ID   age  size  fitness  adj fit  stag\n",
      "  ====  ===  ====  =======  =======  ====\n",
      "     1    1   150      0.5    0.000     1\n",
      "Total extinctions: 0\n",
      "Generation time: 38.469 sec (38.733 average)\n",
      "\n",
      " ****** Running generation 2 ****** \n",
      "\n",
      "Population's average fitness: 0.50000 stdev: 0.00000\n",
      "Best fitness: 0.50000 - size: (1, 5) - species 1 - id 1\n",
      "Average adjusted fitness: 0.000\n",
      "Mean genetic distance 1.844, standard deviation 0.631\n",
      "Population of 150 members in 3 species:\n",
      "   ID   age  size  fitness  adj fit  stag\n",
      "  ====  ===  ====  =======  =======  ====\n",
      "     1    2   148      0.5    0.000     2\n",
      "     2    0     1       --       --     0\n",
      "     3    0     1       --       --     0\n",
      "Total extinctions: 0\n",
      "Generation time: 38.295 sec (38.587 average)\n",
      "\n",
      " ****** Running generation 3 ****** \n",
      "\n",
      "Population's average fitness: 0.50000 stdev: 0.00000\n",
      "Best fitness: 0.50000 - size: (1, 5) - species 1 - id 1\n",
      "Average adjusted fitness: 0.000\n",
      "Mean genetic distance 2.176, standard deviation 0.598\n",
      "Population of 150 members in 6 species:\n",
      "   ID   age  size  fitness  adj fit  stag\n",
      "  ====  ===  ====  =======  =======  ====\n",
      "     1    3   135      0.5    0.000     3\n",
      "     2    1     3      0.5    0.000     0\n",
      "     3    1     4      0.5    0.000     0\n",
      "     4    0     1       --       --     0\n",
      "     5    0     5       --       --     0\n",
      "     6    0     2       --       --     0\n",
      "Total extinctions: 0\n",
      "Generation time: 38.385 sec (38.537 average)\n",
      "\n",
      " ****** Running generation 4 ****** \n",
      "\n",
      "Population's average fitness: 0.50000 stdev: 0.00000\n",
      "Best fitness: 0.50000 - size: (1, 5) - species 1 - id 1\n",
      "Average adjusted fitness: 0.000\n",
      "Mean genetic distance 2.350, standard deviation 0.551\n",
      "Population of 152 members in 9 species:\n",
      "   ID   age  size  fitness  adj fit  stag\n",
      "  ====  ===  ====  =======  =======  ====\n",
      "     1    4   115      0.5    0.000     4\n",
      "     2    2     4      0.5    0.000     1\n",
      "     3    2     6      0.5    0.000     1\n",
      "     4    1     5      0.5    0.000     0\n",
      "     5    1     4      0.5    0.000     0\n",
      "     6    1     6      0.5    0.000     0\n",
      "     7    0     3       --       --     0\n",
      "     8    0     4       --       --     0\n",
      "     9    0     5       --       --     0\n",
      "Total extinctions: 0\n",
      "Generation time: 38.192 sec (38.468 average)\n"
     ]
    }
   ],
   "source": [
    "config_path = \"es_hyper_neat.cfg\"\n",
    "config = Config(DefaultGenome, DefaultReproduction, DefaultSpeciesSet, DefaultStagnation, config_path)\n",
    "\n",
    "pop = Population(config)\n",
    "pop.add_reporter(neat.StdOutReporter(True))\n",
    "pop.add_reporter(neat.StatisticsReporter())\n",
    "\n",
    "winner = pop.run(eval_genomes, n=5)"
   ]
  },
  {
   "cell_type": "code",
   "execution_count": 10,
   "id": "f0a0ad3d",
   "metadata": {},
   "outputs": [],
   "source": [
    "with open(\"es_hyper_model.pkl\", \"wb\") as f:\n",
    "    pickle.dump(winner, f)"
   ]
  },
  {
   "cell_type": "code",
   "execution_count": 11,
   "id": "4a04be77",
   "metadata": {},
   "outputs": [
    {
     "name": "stdout",
     "output_type": "stream",
     "text": [
      "\n",
      "— Test metrics —\n",
      "Accuracy       : 0.9516640625\n",
      "F1-score       : 0.92809465036097\n",
      "\n",
      "Classification report:\n",
      "               precision    recall  f1-score   support\n",
      "\n",
      "           0       0.95      1.00      0.98    121813\n",
      "           1       0.00      0.00      0.00      6187\n",
      "\n",
      "    accuracy                           0.95    128000\n",
      "   macro avg       0.48      0.50      0.49    128000\n",
      "weighted avg       0.91      0.95      0.93    128000\n",
      "\n",
      "Confusion matrix:\n",
      " [[121813      0]\n",
      " [  6187      0]]\n"
     ]
    },
    {
     "name": "stderr",
     "output_type": "stream",
     "text": [
      "d:\\Programming\\CollisionML\\venv\\Lib\\site-packages\\sklearn\\metrics\\_classification.py:1565: UndefinedMetricWarning: Precision is ill-defined and being set to 0.0 in labels with no predicted samples. Use `zero_division` parameter to control this behavior.\n",
      "  _warn_prf(average, modifier, f\"{metric.capitalize()} is\", len(result))\n",
      "d:\\Programming\\CollisionML\\venv\\Lib\\site-packages\\sklearn\\metrics\\_classification.py:1565: UndefinedMetricWarning: Precision is ill-defined and being set to 0.0 in labels with no predicted samples. Use `zero_division` parameter to control this behavior.\n",
      "  _warn_prf(average, modifier, f\"{metric.capitalize()} is\", len(result))\n",
      "d:\\Programming\\CollisionML\\venv\\Lib\\site-packages\\sklearn\\metrics\\_classification.py:1565: UndefinedMetricWarning: Precision is ill-defined and being set to 0.0 in labels with no predicted samples. Use `zero_division` parameter to control this behavior.\n",
      "  _warn_prf(average, modifier, f\"{metric.capitalize()} is\", len(result))\n"
     ]
    }
   ],
   "source": [
    "cppn_w = create_cppn(winner, config, output_activation_function=es_params[\"activation\"])\n",
    "es_net_w = ESNetwork(substrate, cppn_w, es_params)\n",
    "net_w    = es_net_w.create_phenotype_network()\n",
    "\n",
    "y_pred = [int(net_w.activate(x)[0] > 0.5) for x in X_test]\n",
    "\n",
    "print(\"\\n— Test metrics —\")\n",
    "print(\"Accuracy       :\", accuracy_score(y_test, y_pred))\n",
    "print(\"F1-score       :\", f1_score(y_test, y_pred, average='weighted'))\n",
    "print(\"\\nClassification report:\\n\", classification_report(y_test, y_pred))\n",
    "print(\"Confusion matrix:\\n\", confusion_matrix(y_test, y_pred))"
   ]
  }
 ],
 "metadata": {
  "kernelspec": {
   "display_name": "venv",
   "language": "python",
   "name": "python3"
  },
  "language_info": {
   "codemirror_mode": {
    "name": "ipython",
    "version": 3
   },
   "file_extension": ".py",
   "mimetype": "text/x-python",
   "name": "python",
   "nbconvert_exporter": "python",
   "pygments_lexer": "ipython3",
   "version": "3.12.10"
  }
 },
 "nbformat": 4,
 "nbformat_minor": 5
}
